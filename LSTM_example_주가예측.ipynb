{
  "nbformat": 4,
  "nbformat_minor": 0,
  "metadata": {
    "colab": {
      "provenance": [],
      "authorship_tag": "ABX9TyOAAT7i3eYB71tPBpl4/8ws",
      "include_colab_link": true
    },
    "kernelspec": {
      "name": "python3",
      "display_name": "Python 3"
    },
    "language_info": {
      "name": "python"
    },
    "gpuClass": "standard"
  },
  "cells": [
    {
      "cell_type": "markdown",
      "metadata": {
        "id": "view-in-github",
        "colab_type": "text"
      },
      "source": [
        "<a href=\"https://colab.research.google.com/github/withjungjh/My-Neuromatch-Academy/blob/main/LSTM_example_%EC%A3%BC%EA%B0%80%EC%98%88%EC%B8%A1.ipynb\" target=\"_parent\"><img src=\"https://colab.research.google.com/assets/colab-badge.svg\" alt=\"Open In Colab\"/></a>"
      ]
    },
    {
      "cell_type": "markdown",
      "source": [
        "# 1. Set up"
      ],
      "metadata": {
        "id": "Q1_0uWDH9fw4"
      }
    },
    {
      "cell_type": "code",
      "execution_count": 1,
      "metadata": {
        "colab": {
          "base_uri": "https://localhost:8080/"
        },
        "id": "Lp9DBjuzGfdb",
        "outputId": "93fad9a7-4f8f-4af2-82ee-5859cecbade4"
      },
      "outputs": [
        {
          "output_type": "stream",
          "name": "stdout",
          "text": [
            "Looking in indexes: https://pypi.org/simple, https://us-python.pkg.dev/colab-wheels/public/simple/\n",
            "Requirement already satisfied: torch in /usr/local/lib/python3.7/dist-packages (1.12.1+cu113)\n",
            "Requirement already satisfied: typing-extensions in /usr/local/lib/python3.7/dist-packages (from torch) (4.1.1)\n",
            "Looking in indexes: https://pypi.org/simple, https://us-python.pkg.dev/colab-wheels/public/simple/\n",
            "Requirement already satisfied: torchvision in /usr/local/lib/python3.7/dist-packages (0.13.1+cu113)\n",
            "Requirement already satisfied: pillow!=8.3.*,>=5.3.0 in /usr/local/lib/python3.7/dist-packages (from torchvision) (7.1.2)\n",
            "Requirement already satisfied: torch==1.12.1 in /usr/local/lib/python3.7/dist-packages (from torchvision) (1.12.1+cu113)\n",
            "Requirement already satisfied: typing-extensions in /usr/local/lib/python3.7/dist-packages (from torchvision) (4.1.1)\n",
            "Requirement already satisfied: requests in /usr/local/lib/python3.7/dist-packages (from torchvision) (2.23.0)\n",
            "Requirement already satisfied: numpy in /usr/local/lib/python3.7/dist-packages (from torchvision) (1.21.6)\n",
            "Requirement already satisfied: idna<3,>=2.5 in /usr/local/lib/python3.7/dist-packages (from requests->torchvision) (2.10)\n",
            "Requirement already satisfied: chardet<4,>=3.0.2 in /usr/local/lib/python3.7/dist-packages (from requests->torchvision) (3.0.4)\n",
            "Requirement already satisfied: certifi>=2017.4.17 in /usr/local/lib/python3.7/dist-packages (from requests->torchvision) (2022.6.15)\n",
            "Requirement already satisfied: urllib3!=1.25.0,!=1.25.1,<1.26,>=1.21.1 in /usr/local/lib/python3.7/dist-packages (from requests->torchvision) (1.24.3)\n"
          ]
        }
      ],
      "source": [
        "!pip3 install torch\n",
        "!pip3 install torchvision"
      ]
    },
    {
      "cell_type": "code",
      "source": [
        "!pip3 install --upgrade pandas\n",
        "!pip3 install --upgrade pandas_datareader"
      ],
      "metadata": {
        "colab": {
          "base_uri": "https://localhost:8080/"
        },
        "id": "4puthHHyDk3f",
        "outputId": "13ddd6c3-9a50-4fce-86fa-81198e4423da"
      },
      "execution_count": 2,
      "outputs": [
        {
          "output_type": "stream",
          "name": "stdout",
          "text": [
            "Looking in indexes: https://pypi.org/simple, https://us-python.pkg.dev/colab-wheels/public/simple/\n",
            "Requirement already satisfied: pandas in /usr/local/lib/python3.7/dist-packages (1.3.5)\n",
            "Requirement already satisfied: numpy>=1.17.3 in /usr/local/lib/python3.7/dist-packages (from pandas) (1.21.6)\n",
            "Requirement already satisfied: python-dateutil>=2.7.3 in /usr/local/lib/python3.7/dist-packages (from pandas) (2.8.2)\n",
            "Requirement already satisfied: pytz>=2017.3 in /usr/local/lib/python3.7/dist-packages (from pandas) (2022.2.1)\n",
            "Requirement already satisfied: six>=1.5 in /usr/local/lib/python3.7/dist-packages (from python-dateutil>=2.7.3->pandas) (1.15.0)\n",
            "Looking in indexes: https://pypi.org/simple, https://us-python.pkg.dev/colab-wheels/public/simple/\n",
            "Requirement already satisfied: pandas_datareader in /usr/local/lib/python3.7/dist-packages (0.10.0)\n",
            "Requirement already satisfied: pandas>=0.23 in /usr/local/lib/python3.7/dist-packages (from pandas_datareader) (1.3.5)\n",
            "Requirement already satisfied: lxml in /usr/local/lib/python3.7/dist-packages (from pandas_datareader) (4.9.1)\n",
            "Requirement already satisfied: requests>=2.19.0 in /usr/local/lib/python3.7/dist-packages (from pandas_datareader) (2.23.0)\n",
            "Requirement already satisfied: python-dateutil>=2.7.3 in /usr/local/lib/python3.7/dist-packages (from pandas>=0.23->pandas_datareader) (2.8.2)\n",
            "Requirement already satisfied: pytz>=2017.3 in /usr/local/lib/python3.7/dist-packages (from pandas>=0.23->pandas_datareader) (2022.2.1)\n",
            "Requirement already satisfied: numpy>=1.17.3 in /usr/local/lib/python3.7/dist-packages (from pandas>=0.23->pandas_datareader) (1.21.6)\n",
            "Requirement already satisfied: six>=1.5 in /usr/local/lib/python3.7/dist-packages (from python-dateutil>=2.7.3->pandas>=0.23->pandas_datareader) (1.15.0)\n",
            "Requirement already satisfied: urllib3!=1.25.0,!=1.25.1,<1.26,>=1.21.1 in /usr/local/lib/python3.7/dist-packages (from requests>=2.19.0->pandas_datareader) (1.24.3)\n",
            "Requirement already satisfied: idna<3,>=2.5 in /usr/local/lib/python3.7/dist-packages (from requests>=2.19.0->pandas_datareader) (2.10)\n",
            "Requirement already satisfied: certifi>=2017.4.17 in /usr/local/lib/python3.7/dist-packages (from requests>=2.19.0->pandas_datareader) (2022.6.15)\n",
            "Requirement already satisfied: chardet<4,>=3.0.2 in /usr/local/lib/python3.7/dist-packages (from requests>=2.19.0->pandas_datareader) (3.0.4)\n"
          ]
        }
      ]
    },
    {
      "cell_type": "code",
      "source": [
        "import numpy as np\n",
        "import pandas as pd\n",
        "import pandas_datareader.data as pdr\n",
        "import matplotlib.pyplot as plt\n",
        "\n",
        "import datetime\n",
        "\n",
        "import torch\n",
        "import torch.nn as nn\n",
        "from torch.autograd import Variable\n",
        "\n",
        "import torch.optim as optim\n",
        "from torch.utils.data import Dataset, DataLoader\n",
        "\n",
        "from sklearn.preprocessing import StandardScaler, MinMaxScaler"
      ],
      "metadata": {
        "id": "B1XoCp6cGgmy"
      },
      "execution_count": 3,
      "outputs": []
    },
    {
      "cell_type": "markdown",
      "source": [
        "# 2. 주식 정보 불러오기\n",
        "neural data를 가지고 하면 좋겠지만 일단 LSTM을 처음 돌려보는 상황이기 때문에, 일단 빠르게 LSTM의 실질적인 input이 어떤 데이터로 들어가는지 확인하고자 주가 정보를 이용하였다. "
      ],
      "metadata": {
        "id": "ad_c4U4E9wv7"
      }
    },
    {
      "cell_type": "code",
      "source": [
        "start = (2000, 1, 1) # 2000년 01월 01일\n",
        "start = datetime.datetime(*start)\n",
        "end = datetime.date.today()# 오늘\n",
        "\n",
        "# 야후에서 google 불러오기\n",
        "df = pdr.DataReader('GOOGL', 'yahoo', start, end)\n"
      ],
      "metadata": {
        "id": "d8RmYmoFIE7M"
      },
      "execution_count": 5,
      "outputs": []
    },
    {
      "cell_type": "markdown",
      "source": [
        "`datetime.datetime(*start)` 에서 `*`의 의미는?"
      ],
      "metadata": {
        "id": "TfyvpEI9-n5B"
      }
    },
    {
      "cell_type": "code",
      "source": [
        "df.head(5)\n"
      ],
      "metadata": {
        "colab": {
          "base_uri": "https://localhost:8080/",
          "height": 238
        },
        "id": "7HWy21D2ELII",
        "outputId": "8602fbce-a5d9-4701-f80d-892cc68247a6"
      },
      "execution_count": 6,
      "outputs": [
        {
          "output_type": "execute_result",
          "data": {
            "text/plain": [
              "                High       Low      Open     Close       Volume  Adj Close\n",
              "Date                                                                      \n",
              "2004-08-19  2.604104  2.401401  2.502503  2.511011  893181924.0   2.511011\n",
              "2004-08-20  2.729730  2.515015  2.527778  2.710460  456686856.0   2.710460\n",
              "2004-08-23  2.839840  2.728979  2.771522  2.737738  365122512.0   2.737738\n",
              "2004-08-24  2.792793  2.591842  2.783784  2.624374  304946748.0   2.624374\n",
              "2004-08-25  2.702703  2.599600  2.626627  2.652653  183772044.0   2.652653"
            ],
            "text/html": [
              "\n",
              "  <div id=\"df-d73830f4-4854-44b8-a314-4c01cbb955c9\">\n",
              "    <div class=\"colab-df-container\">\n",
              "      <div>\n",
              "<style scoped>\n",
              "    .dataframe tbody tr th:only-of-type {\n",
              "        vertical-align: middle;\n",
              "    }\n",
              "\n",
              "    .dataframe tbody tr th {\n",
              "        vertical-align: top;\n",
              "    }\n",
              "\n",
              "    .dataframe thead th {\n",
              "        text-align: right;\n",
              "    }\n",
              "</style>\n",
              "<table border=\"1\" class=\"dataframe\">\n",
              "  <thead>\n",
              "    <tr style=\"text-align: right;\">\n",
              "      <th></th>\n",
              "      <th>High</th>\n",
              "      <th>Low</th>\n",
              "      <th>Open</th>\n",
              "      <th>Close</th>\n",
              "      <th>Volume</th>\n",
              "      <th>Adj Close</th>\n",
              "    </tr>\n",
              "    <tr>\n",
              "      <th>Date</th>\n",
              "      <th></th>\n",
              "      <th></th>\n",
              "      <th></th>\n",
              "      <th></th>\n",
              "      <th></th>\n",
              "      <th></th>\n",
              "    </tr>\n",
              "  </thead>\n",
              "  <tbody>\n",
              "    <tr>\n",
              "      <th>2004-08-19</th>\n",
              "      <td>2.604104</td>\n",
              "      <td>2.401401</td>\n",
              "      <td>2.502503</td>\n",
              "      <td>2.511011</td>\n",
              "      <td>893181924.0</td>\n",
              "      <td>2.511011</td>\n",
              "    </tr>\n",
              "    <tr>\n",
              "      <th>2004-08-20</th>\n",
              "      <td>2.729730</td>\n",
              "      <td>2.515015</td>\n",
              "      <td>2.527778</td>\n",
              "      <td>2.710460</td>\n",
              "      <td>456686856.0</td>\n",
              "      <td>2.710460</td>\n",
              "    </tr>\n",
              "    <tr>\n",
              "      <th>2004-08-23</th>\n",
              "      <td>2.839840</td>\n",
              "      <td>2.728979</td>\n",
              "      <td>2.771522</td>\n",
              "      <td>2.737738</td>\n",
              "      <td>365122512.0</td>\n",
              "      <td>2.737738</td>\n",
              "    </tr>\n",
              "    <tr>\n",
              "      <th>2004-08-24</th>\n",
              "      <td>2.792793</td>\n",
              "      <td>2.591842</td>\n",
              "      <td>2.783784</td>\n",
              "      <td>2.624374</td>\n",
              "      <td>304946748.0</td>\n",
              "      <td>2.624374</td>\n",
              "    </tr>\n",
              "    <tr>\n",
              "      <th>2004-08-25</th>\n",
              "      <td>2.702703</td>\n",
              "      <td>2.599600</td>\n",
              "      <td>2.626627</td>\n",
              "      <td>2.652653</td>\n",
              "      <td>183772044.0</td>\n",
              "      <td>2.652653</td>\n",
              "    </tr>\n",
              "  </tbody>\n",
              "</table>\n",
              "</div>\n",
              "      <button class=\"colab-df-convert\" onclick=\"convertToInteractive('df-d73830f4-4854-44b8-a314-4c01cbb955c9')\"\n",
              "              title=\"Convert this dataframe to an interactive table.\"\n",
              "              style=\"display:none;\">\n",
              "        \n",
              "  <svg xmlns=\"http://www.w3.org/2000/svg\" height=\"24px\"viewBox=\"0 0 24 24\"\n",
              "       width=\"24px\">\n",
              "    <path d=\"M0 0h24v24H0V0z\" fill=\"none\"/>\n",
              "    <path d=\"M18.56 5.44l.94 2.06.94-2.06 2.06-.94-2.06-.94-.94-2.06-.94 2.06-2.06.94zm-11 1L8.5 8.5l.94-2.06 2.06-.94-2.06-.94L8.5 2.5l-.94 2.06-2.06.94zm10 10l.94 2.06.94-2.06 2.06-.94-2.06-.94-.94-2.06-.94 2.06-2.06.94z\"/><path d=\"M17.41 7.96l-1.37-1.37c-.4-.4-.92-.59-1.43-.59-.52 0-1.04.2-1.43.59L10.3 9.45l-7.72 7.72c-.78.78-.78 2.05 0 2.83L4 21.41c.39.39.9.59 1.41.59.51 0 1.02-.2 1.41-.59l7.78-7.78 2.81-2.81c.8-.78.8-2.07 0-2.86zM5.41 20L4 18.59l7.72-7.72 1.47 1.35L5.41 20z\"/>\n",
              "  </svg>\n",
              "      </button>\n",
              "      \n",
              "  <style>\n",
              "    .colab-df-container {\n",
              "      display:flex;\n",
              "      flex-wrap:wrap;\n",
              "      gap: 12px;\n",
              "    }\n",
              "\n",
              "    .colab-df-convert {\n",
              "      background-color: #E8F0FE;\n",
              "      border: none;\n",
              "      border-radius: 50%;\n",
              "      cursor: pointer;\n",
              "      display: none;\n",
              "      fill: #1967D2;\n",
              "      height: 32px;\n",
              "      padding: 0 0 0 0;\n",
              "      width: 32px;\n",
              "    }\n",
              "\n",
              "    .colab-df-convert:hover {\n",
              "      background-color: #E2EBFA;\n",
              "      box-shadow: 0px 1px 2px rgba(60, 64, 67, 0.3), 0px 1px 3px 1px rgba(60, 64, 67, 0.15);\n",
              "      fill: #174EA6;\n",
              "    }\n",
              "\n",
              "    [theme=dark] .colab-df-convert {\n",
              "      background-color: #3B4455;\n",
              "      fill: #D2E3FC;\n",
              "    }\n",
              "\n",
              "    [theme=dark] .colab-df-convert:hover {\n",
              "      background-color: #434B5C;\n",
              "      box-shadow: 0px 1px 3px 1px rgba(0, 0, 0, 0.15);\n",
              "      filter: drop-shadow(0px 1px 2px rgba(0, 0, 0, 0.3));\n",
              "      fill: #FFFFFF;\n",
              "    }\n",
              "  </style>\n",
              "\n",
              "      <script>\n",
              "        const buttonEl =\n",
              "          document.querySelector('#df-d73830f4-4854-44b8-a314-4c01cbb955c9 button.colab-df-convert');\n",
              "        buttonEl.style.display =\n",
              "          google.colab.kernel.accessAllowed ? 'block' : 'none';\n",
              "\n",
              "        async function convertToInteractive(key) {\n",
              "          const element = document.querySelector('#df-d73830f4-4854-44b8-a314-4c01cbb955c9');\n",
              "          const dataTable =\n",
              "            await google.colab.kernel.invokeFunction('convertToInteractive',\n",
              "                                                     [key], {});\n",
              "          if (!dataTable) return;\n",
              "\n",
              "          const docLinkHtml = 'Like what you see? Visit the ' +\n",
              "            '<a target=\"_blank\" href=https://colab.research.google.com/notebooks/data_table.ipynb>data table notebook</a>'\n",
              "            + ' to learn more about interactive tables.';\n",
              "          element.innerHTML = '';\n",
              "          dataTable['output_type'] = 'display_data';\n",
              "          await google.colab.output.renderOutput(dataTable, element);\n",
              "          const docLink = document.createElement('div');\n",
              "          docLink.innerHTML = docLinkHtml;\n",
              "          element.appendChild(docLink);\n",
              "        }\n",
              "      </script>\n",
              "    </div>\n",
              "  </div>\n",
              "  "
            ]
          },
          "metadata": {},
          "execution_count": 6
        }
      ]
    },
    {
      "cell_type": "code",
      "source": [
        "df.tail(5)\n"
      ],
      "metadata": {
        "colab": {
          "base_uri": "https://localhost:8080/",
          "height": 238
        },
        "id": "Tpt5EvpEEMww",
        "outputId": "97ad7f51-f7cb-4d1d-acdb-cc6aec6a43ad"
      },
      "execution_count": 7,
      "outputs": [
        {
          "output_type": "execute_result",
          "data": {
            "text/plain": [
              "                  High         Low        Open       Close      Volume  \\\n",
              "Date                                                                     \n",
              "2022-09-07  109.980003  106.900002  107.059998  109.449997  23167000.0   \n",
              "2022-09-08  109.599998  107.160004  108.040001  108.379997  24238300.0   \n",
              "2022-09-09  110.989998  109.019997  109.070000  110.650002  23197700.0   \n",
              "2022-09-12  111.620003  109.930000  110.989998  110.860001  22966800.0   \n",
              "2022-09-13  108.300003  104.089996  107.800003  104.320000  38128100.0   \n",
              "\n",
              "             Adj Close  \n",
              "Date                    \n",
              "2022-09-07  109.449997  \n",
              "2022-09-08  108.379997  \n",
              "2022-09-09  110.650002  \n",
              "2022-09-12  110.860001  \n",
              "2022-09-13  104.320000  "
            ],
            "text/html": [
              "\n",
              "  <div id=\"df-d341bea8-1f72-420d-b2d8-3e1123e960f9\">\n",
              "    <div class=\"colab-df-container\">\n",
              "      <div>\n",
              "<style scoped>\n",
              "    .dataframe tbody tr th:only-of-type {\n",
              "        vertical-align: middle;\n",
              "    }\n",
              "\n",
              "    .dataframe tbody tr th {\n",
              "        vertical-align: top;\n",
              "    }\n",
              "\n",
              "    .dataframe thead th {\n",
              "        text-align: right;\n",
              "    }\n",
              "</style>\n",
              "<table border=\"1\" class=\"dataframe\">\n",
              "  <thead>\n",
              "    <tr style=\"text-align: right;\">\n",
              "      <th></th>\n",
              "      <th>High</th>\n",
              "      <th>Low</th>\n",
              "      <th>Open</th>\n",
              "      <th>Close</th>\n",
              "      <th>Volume</th>\n",
              "      <th>Adj Close</th>\n",
              "    </tr>\n",
              "    <tr>\n",
              "      <th>Date</th>\n",
              "      <th></th>\n",
              "      <th></th>\n",
              "      <th></th>\n",
              "      <th></th>\n",
              "      <th></th>\n",
              "      <th></th>\n",
              "    </tr>\n",
              "  </thead>\n",
              "  <tbody>\n",
              "    <tr>\n",
              "      <th>2022-09-07</th>\n",
              "      <td>109.980003</td>\n",
              "      <td>106.900002</td>\n",
              "      <td>107.059998</td>\n",
              "      <td>109.449997</td>\n",
              "      <td>23167000.0</td>\n",
              "      <td>109.449997</td>\n",
              "    </tr>\n",
              "    <tr>\n",
              "      <th>2022-09-08</th>\n",
              "      <td>109.599998</td>\n",
              "      <td>107.160004</td>\n",
              "      <td>108.040001</td>\n",
              "      <td>108.379997</td>\n",
              "      <td>24238300.0</td>\n",
              "      <td>108.379997</td>\n",
              "    </tr>\n",
              "    <tr>\n",
              "      <th>2022-09-09</th>\n",
              "      <td>110.989998</td>\n",
              "      <td>109.019997</td>\n",
              "      <td>109.070000</td>\n",
              "      <td>110.650002</td>\n",
              "      <td>23197700.0</td>\n",
              "      <td>110.650002</td>\n",
              "    </tr>\n",
              "    <tr>\n",
              "      <th>2022-09-12</th>\n",
              "      <td>111.620003</td>\n",
              "      <td>109.930000</td>\n",
              "      <td>110.989998</td>\n",
              "      <td>110.860001</td>\n",
              "      <td>22966800.0</td>\n",
              "      <td>110.860001</td>\n",
              "    </tr>\n",
              "    <tr>\n",
              "      <th>2022-09-13</th>\n",
              "      <td>108.300003</td>\n",
              "      <td>104.089996</td>\n",
              "      <td>107.800003</td>\n",
              "      <td>104.320000</td>\n",
              "      <td>38128100.0</td>\n",
              "      <td>104.320000</td>\n",
              "    </tr>\n",
              "  </tbody>\n",
              "</table>\n",
              "</div>\n",
              "      <button class=\"colab-df-convert\" onclick=\"convertToInteractive('df-d341bea8-1f72-420d-b2d8-3e1123e960f9')\"\n",
              "              title=\"Convert this dataframe to an interactive table.\"\n",
              "              style=\"display:none;\">\n",
              "        \n",
              "  <svg xmlns=\"http://www.w3.org/2000/svg\" height=\"24px\"viewBox=\"0 0 24 24\"\n",
              "       width=\"24px\">\n",
              "    <path d=\"M0 0h24v24H0V0z\" fill=\"none\"/>\n",
              "    <path d=\"M18.56 5.44l.94 2.06.94-2.06 2.06-.94-2.06-.94-.94-2.06-.94 2.06-2.06.94zm-11 1L8.5 8.5l.94-2.06 2.06-.94-2.06-.94L8.5 2.5l-.94 2.06-2.06.94zm10 10l.94 2.06.94-2.06 2.06-.94-2.06-.94-.94-2.06-.94 2.06-2.06.94z\"/><path d=\"M17.41 7.96l-1.37-1.37c-.4-.4-.92-.59-1.43-.59-.52 0-1.04.2-1.43.59L10.3 9.45l-7.72 7.72c-.78.78-.78 2.05 0 2.83L4 21.41c.39.39.9.59 1.41.59.51 0 1.02-.2 1.41-.59l7.78-7.78 2.81-2.81c.8-.78.8-2.07 0-2.86zM5.41 20L4 18.59l7.72-7.72 1.47 1.35L5.41 20z\"/>\n",
              "  </svg>\n",
              "      </button>\n",
              "      \n",
              "  <style>\n",
              "    .colab-df-container {\n",
              "      display:flex;\n",
              "      flex-wrap:wrap;\n",
              "      gap: 12px;\n",
              "    }\n",
              "\n",
              "    .colab-df-convert {\n",
              "      background-color: #E8F0FE;\n",
              "      border: none;\n",
              "      border-radius: 50%;\n",
              "      cursor: pointer;\n",
              "      display: none;\n",
              "      fill: #1967D2;\n",
              "      height: 32px;\n",
              "      padding: 0 0 0 0;\n",
              "      width: 32px;\n",
              "    }\n",
              "\n",
              "    .colab-df-convert:hover {\n",
              "      background-color: #E2EBFA;\n",
              "      box-shadow: 0px 1px 2px rgba(60, 64, 67, 0.3), 0px 1px 3px 1px rgba(60, 64, 67, 0.15);\n",
              "      fill: #174EA6;\n",
              "    }\n",
              "\n",
              "    [theme=dark] .colab-df-convert {\n",
              "      background-color: #3B4455;\n",
              "      fill: #D2E3FC;\n",
              "    }\n",
              "\n",
              "    [theme=dark] .colab-df-convert:hover {\n",
              "      background-color: #434B5C;\n",
              "      box-shadow: 0px 1px 3px 1px rgba(0, 0, 0, 0.15);\n",
              "      filter: drop-shadow(0px 1px 2px rgba(0, 0, 0, 0.3));\n",
              "      fill: #FFFFFF;\n",
              "    }\n",
              "  </style>\n",
              "\n",
              "      <script>\n",
              "        const buttonEl =\n",
              "          document.querySelector('#df-d341bea8-1f72-420d-b2d8-3e1123e960f9 button.colab-df-convert');\n",
              "        buttonEl.style.display =\n",
              "          google.colab.kernel.accessAllowed ? 'block' : 'none';\n",
              "\n",
              "        async function convertToInteractive(key) {\n",
              "          const element = document.querySelector('#df-d341bea8-1f72-420d-b2d8-3e1123e960f9');\n",
              "          const dataTable =\n",
              "            await google.colab.kernel.invokeFunction('convertToInteractive',\n",
              "                                                     [key], {});\n",
              "          if (!dataTable) return;\n",
              "\n",
              "          const docLinkHtml = 'Like what you see? Visit the ' +\n",
              "            '<a target=\"_blank\" href=https://colab.research.google.com/notebooks/data_table.ipynb>data table notebook</a>'\n",
              "            + ' to learn more about interactive tables.';\n",
              "          element.innerHTML = '';\n",
              "          dataTable['output_type'] = 'display_data';\n",
              "          await google.colab.output.renderOutput(dataTable, element);\n",
              "          const docLink = document.createElement('div');\n",
              "          docLink.innerHTML = docLinkHtml;\n",
              "          element.appendChild(docLink);\n",
              "        }\n",
              "      </script>\n",
              "    </div>\n",
              "  </div>\n",
              "  "
            ]
          },
          "metadata": {},
          "execution_count": 7
        }
      ]
    },
    {
      "cell_type": "code",
      "source": [
        "df.Close.plot(grid=True)"
      ],
      "metadata": {
        "colab": {
          "base_uri": "https://localhost:8080/",
          "height": 287
        },
        "id": "IaofqdLNEOg_",
        "outputId": "85dd0574-8397-402c-81a4-3b3ef2ff47c0"
      },
      "execution_count": 8,
      "outputs": [
        {
          "output_type": "execute_result",
          "data": {
            "text/plain": [
              "<matplotlib.axes._subplots.AxesSubplot at 0x7f28d9a448d0>"
            ]
          },
          "metadata": {},
          "execution_count": 8
        },
        {
          "output_type": "display_data",
          "data": {
            "text/plain": [
              "<Figure size 432x288 with 1 Axes>"
            ],
            "image/png": "[encoded data removed]"
          },
          "metadata": {
            "needs_background": "light"
          }
        }
      ]
    },
    {
      "cell_type": "markdown",
      "source": [
        "여기에서는 pandas를 데이터로 받았다. 상황에 따라서 다른 구조의 data도 받을 텐데 그때 어떻게 적용해야 할지 생각해보도록 하자. "
      ],
      "metadata": {
        "id": "NIatfG9sEnui"
      }
    },
    {
      "cell_type": "markdown",
      "source": [
        "# 3. Preparing Dataset\n"
      ],
      "metadata": {
        "id": "COyv1LW7Eezv"
      }
    },
    {
      "cell_type": "code",
      "source": [
        "X = df.drop(columns=\"Volume\")\n",
        "y = df.iloc[:, 5:6]\n",
        "# y = df.iloc[:, 5] >>> column name이 나오지 않음. \n",
        "\n",
        "print(X)\n",
        "print(y)"
      ],
      "metadata": {
        "colab": {
          "base_uri": "https://localhost:8080/"
        },
        "id": "nphpVq6vE-cI",
        "outputId": "efae5801-1af1-4e78-81e3-b2344035adb6"
      },
      "execution_count": 14,
      "outputs": [
        {
          "output_type": "stream",
          "name": "stdout",
          "text": [
            "                  High         Low        Open       Close   Adj Close\n",
            "Date                                                                  \n",
            "2004-08-19    2.604104    2.401401    2.502503    2.511011    2.511011\n",
            "2004-08-20    2.729730    2.515015    2.527778    2.710460    2.710460\n",
            "2004-08-23    2.839840    2.728979    2.771522    2.737738    2.737738\n",
            "2004-08-24    2.792793    2.591842    2.783784    2.624374    2.624374\n",
            "2004-08-25    2.702703    2.599600    2.626627    2.652653    2.652653\n",
            "...                ...         ...         ...         ...         ...\n",
            "2022-09-07  109.980003  106.900002  107.059998  109.449997  109.449997\n",
            "2022-09-08  109.599998  107.160004  108.040001  108.379997  108.379997\n",
            "2022-09-09  110.989998  109.019997  109.070000  110.650002  110.650002\n",
            "2022-09-12  111.620003  109.930000  110.989998  110.860001  110.860001\n",
            "2022-09-13  108.300003  104.089996  107.800003  104.320000  104.320000\n",
            "\n",
            "[4549 rows x 5 columns]\n",
            "             Adj Close\n",
            "Date                  \n",
            "2004-08-19    2.511011\n",
            "2004-08-20    2.710460\n",
            "2004-08-23    2.737738\n",
            "2004-08-24    2.624374\n",
            "2004-08-25    2.652653\n",
            "...                ...\n",
            "2022-09-07  109.449997\n",
            "2022-09-08  108.379997\n",
            "2022-09-09  110.650002\n",
            "2022-09-12  110.860001\n",
            "2022-09-13  104.320000\n",
            "\n",
            "[4549 rows x 1 columns]\n"
          ]
        }
      ]
    },
    {
      "cell_type": "markdown",
      "source": [
        "`iloc` 무슨 함수인지 항상 까먹는다. "
      ],
      "metadata": {
        "id": "j3KjAYE7LnZY"
      }
    },
    {
      "cell_type": "markdown",
      "source": [
        "## 데이터 정규화(Normalization and Standardization)\n",
        "\n",
        "학습을 잘 시키기 위해서. \n",
        "왜 normalization을 하면 학습이 잘 되는가? \n",
        "feature scaling을 함으로서 feature scale에 덜 민감해지기 때문에. \n",
        "어떤 feature의 scale이 큰 경우에 다른 feature들을 압도할 수 있기 때문에 중요. \n",
        "\n",
        "- normalization through `MinMaxScaler()`\n",
        "- standardization through `StandardScaler()`"
      ],
      "metadata": {
        "id": "IxVMLRUbF53I"
      }
    },
    {
      "cell_type": "code",
      "source": [
        "mm = MinMaxScaler()\n",
        "ss = StandardScaler()\n",
        "\n",
        "X_ss = ss.fit_transform(X) #\n",
        "y_mm = mm.fit_transform(y)\n",
        "\n",
        "# Training data : 처음부터 4499th row까지\n",
        "X_train = X_ss[:4500, :] \n",
        "y_train = y_mm[:4500, :]\n",
        "\n",
        "# Test data: 4500th row부터 끝까지\n",
        "X_test = X_ss[4500:, :]\n",
        "y_test = y_mm[4500:, :]\n",
        "\n",
        "print(\"Training Shape:\", X_train.shape, y_train.shape)\n",
        "print(\"Test Shape:\", X_test.shape, y_test.shape)"
      ],
      "metadata": {
        "colab": {
          "base_uri": "https://localhost:8080/"
        },
        "id": "djSfliETF1b9",
        "outputId": "cbd0fbbb-889d-44c1-fa3d-fae9c7273779"
      },
      "execution_count": 15,
      "outputs": [
        {
          "output_type": "stream",
          "name": "stdout",
          "text": [
            "Training Shape: (4500, 5) (4500, 1)\n",
            "Test Shape: (49, 5) (49, 1)\n"
          ]
        }
      ]
    },
    {
      "cell_type": "code",
      "source": [
        "print(type(X))\n",
        "print(type(X_train))"
      ],
      "metadata": {
        "colab": {
          "base_uri": "https://localhost:8080/"
        },
        "id": "KZ8PDceALZBz",
        "outputId": "e7fa767d-ebec-4f79-f0a9-8b1055a91b52"
      },
      "execution_count": 17,
      "outputs": [
        {
          "output_type": "stream",
          "name": "stdout",
          "text": [
            "<class 'pandas.core.frame.DataFrame'>\n",
            "<class 'numpy.ndarray'>\n"
          ]
        }
      ]
    },
    {
      "cell_type": "markdown",
      "source": [
        "그런데 이 상태에서는 왜 인지 블로그에서 학습이 불가능하다고 한다. 참고로 `fit_transform`을 하면서 pandas.DataFrame -> ndarray로 데이터 타입이 바뀌었다. 그런데 pytorch나 tensorflow등의 딥러닝 관련 라이브러리에서 학습이 가능하기 위해서는 tensor로 변환을 시켜줘야 하는 과정이 필요한 듯하다. 따라서 아래와 같은 과정으로 데이터 타입을 또 변환시켜준다. "
      ],
      "metadata": {
        "id": "EvXLKPnRLPiA"
      }
    },
    {
      "cell_type": "code",
      "source": [
        "X_train_tensors = Variable(torch.Tensor(X_train)) #torch.Tensor는 input을 ndarray로만 받나? \n",
        "X_test_tensors = Variable(torch.Tensor(X_test))\n",
        "\n",
        "y_train_tensors = Variable(torch.Tensor(y_train)) \n",
        "y_test_tensors = Variable(torch.Tensor(y_test))\n",
        "\n",
        "X_train_tensors_final = torch.reshape(X_train_tensors, (X_train_tensors.shape[0], 1, X_train_tensors.shape[1]))\n",
        "X_test_tensors_final = torch.reshape(X_test_tensors, (X_test_tensors.shape[0], 1, X_test_tensors.shape[1]))\n",
        "\n",
        "print(\"Training Shape\", X_train_tensors_final.shape, y_train_tensors.shape)\n",
        "print(\"Testing Shape\", X_test_tensors_final.shape, y_test_tensors.shape) "
      ],
      "metadata": {
        "colab": {
          "base_uri": "https://localhost:8080/"
        },
        "id": "ECvDMAjLNIvT",
        "outputId": "d837c9ea-52bb-4b60-960d-67631d453493"
      },
      "execution_count": 18,
      "outputs": [
        {
          "output_type": "stream",
          "name": "stdout",
          "text": [
            "Training Shape torch.Size([4500, 1, 5]) torch.Size([4500, 1])\n",
            "Testing Shape torch.Size([49, 1, 5]) torch.Size([49, 1])\n"
          ]
        }
      ]
    },
    {
      "cell_type": "markdown",
      "source": [
        "나는 항상 데이터 shape이 어떤 모양으로 나와서 들어가는지 헷갈린다. 아무래도 실제로 DNN structure를 짜거나 이해해야 하는 상황이 오면 단계별로 데이터 타입과 shape을 정리하면서 정보흐름이 어떻게 이어지는지 파악해야 좀 더 이해했다는 느낌을 받을 것 같다. "
      ],
      "metadata": {
        "id": "JF6OjdR9E98I"
      }
    },
    {
      "cell_type": "markdown",
      "source": [
        "# 4. GPU 준비하기 (없으면 CPU로)\n",
        "이 단계가 사실 개인 컴퓨터에서 가장 까다로울 수 있는 부분이다. torch의 경우 ndivia GPU가 깔려있어야 하고 cuda를 깔거나 해야하는 부분이다. 사실 torch를 깔 때 본인의 컴퓨터 사양을 알고 거기에 맞게 pytorch를 깔아야 하는 부분이기도 해서 어쨌든 신경쓸게 많다. 나는 이런 귀찮은 걸 짧은 시간에 집중해서 하기 싫어서 colab으로 코드를 돌리고 있는 중이다.  코드는 다음과 같다. 그런데 이 코드가 과연 colab에서 정상 실행될지는 잘 모르겠다. 한번 확인해보자. "
      ],
      "metadata": {
        "id": "M8esVbOWTfSs"
      }
    },
    {
      "cell_type": "code",
      "source": [
        "device = torch.device(\"cuda:0\" if torch.cuda.is_available() else \"cpu\")  # device\n",
        "# print(torch.cuda.get_device_name(0)) 이 코드는 실행이 되지 않는다. \n",
        "\n"
      ],
      "metadata": {
        "id": "RY7Xn3nCU1yR"
      },
      "execution_count": 20,
      "outputs": []
    },
    {
      "cell_type": "markdown",
      "source": [
        "다행히 CPU로 실행이 되는듯 한데.. 사실 colab에서도 GPU로 실행시킬 수 있다. 위에 `런타임>런타임 유형 변경` 으로 가면 실행하는 연산 프로세스? 를 CPU와 GPU , TPU 로 바꿀 수 있는 옵션이 있다. "
      ],
      "metadata": {
        "id": "EGHxKqr0VGim"
      }
    },
    {
      "cell_type": "markdown",
      "source": [
        "# LSTM network 구성하기"
      ],
      "metadata": {
        "id": "iTcKxuChVeUJ"
      }
    },
    {
      "cell_type": "code",
      "source": [
        "class LSTM1(nn.Module):\n",
        "  def __init__(self, num_classes, input_size, hidden_size, num_layers, seq_length):\n",
        "    super(LSTM1, self).__init__()\n",
        "    self.num_classes = num_classes\n",
        "    self.input_size = input_size\n",
        "    self.hidden_size = hidden_size\n",
        "    self.num_layers = num_layers\n",
        "    self.seq_length = seq_length"
      ],
      "metadata": {
        "id": "9f6Y-PJvVdUy"
      },
      "execution_count": null,
      "outputs": []
    },
    {
      "cell_type": "markdown",
      "source": [
        "# Reference\n",
        "https://coding-yoon.tistory.com/131"
      ],
      "metadata": {
        "id": "pps7F8AY-N8V"
      }
    }
  ]
}