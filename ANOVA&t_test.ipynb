{
  "nbformat": 4,
  "nbformat_minor": 0,
  "metadata": {
    "colab": {
      "provenance": [],
      "collapsed_sections": [],
      "authorship_tag": "ABX9TyN7JB/KvB+yJHjXfa6u5xjs",
      "include_colab_link": true
    },
    "kernelspec": {
      "name": "python3",
      "display_name": "Python 3"
    },
    "language_info": {
      "name": "python"
    }
  },
  "cells": [
    {
      "cell_type": "markdown",
      "metadata": {
        "id": "view-in-github",
        "colab_type": "text"
      },
      "source": [
        "<a href=\"https://colab.research.google.com/github/withjungjh/My-Neuromatch-Academy/blob/main/ANOVA%26t_test.ipynb\" target=\"_parent\"><img src=\"https://colab.research.google.com/assets/colab-badge.svg\" alt=\"Open In Colab\"/></a>"
      ]
    },
    {
      "cell_type": "code",
      "source": [
        "import scipy.stats as stats\n",
        "import pandas as pd\n",
        "import urllib\n",
        "from statsmodels.formula.api import ols\n",
        "from statsmodels.stats.anova import anova_lm\n",
        "import matplotlib.pyplot as plt\n",
        "import numpy as np\n",
        "%matplotlib inline"
      ],
      "metadata": {
        "id": "wP1OWGiiHK4X"
      },
      "execution_count": null,
      "outputs": []
    },
    {
      "cell_type": "markdown",
      "source": [
        "# 평균의 비교와 통계\n",
        "\n",
        "자신이 실험을 설계하고 실험 데이터를 얻었다고 상상해보자. 특정 뇌의 영역을 optogenically 두 집단 혹은 그 이상의 집단이 서로 질적인 차이를 보인다는 것을 누구라도 동의할 만한 기준으로 보인다는 것은 쉽지 않은 일이다. 그 이유는 각 집단이 homogenous하지 않고 heterogenous하기 때문이다. 다음 예시를 보자. \n"
      ],
      "metadata": {
        "id": "GNbrU_F5H8WX"
      }
    },
    {
      "cell_type": "code",
      "source": [
        "centers = [5,5.3,4.5]\n",
        "std = 0.1\n",
        "colors = 'brg'\n",
        "\n",
        "data_1 = []\n",
        "for i in range(3):\n",
        "    data_1.append(stats.norm(centers[i], std).rvs(100))\n",
        "    plt.plot(np.arange(len(data_1[i]))+i*len(data_1[0]),data_1[i], '.', color = colors[i])"
      ],
      "metadata": {
        "colab": {
          "base_uri": "https://localhost:8080/",
          "height": 265
        },
        "id": "5F4r9Vi5NSKG",
        "outputId": "5e16e63f-85c3-41a5-c695-8802ae9c0e82"
      },
      "execution_count": null,
      "outputs": [
        {
          "output_type": "display_data",
          "data": {
            "text/plain": [
              "<Figure size 432x288 with 1 Axes>"
            ],
            "image/png": "[encoded data removed]"
          },
          "metadata": {
            "needs_background": "light"
          }
        }
      ]
    },
    {
      "cell_type": "code",
      "source": [
        "std_2 = 2\n",
        "data_2 = []\n",
        "for i in range(3):\n",
        "    data_2.append(stats.norm(centers[i], std_2).rvs(100))\n",
        "    plt.plot(np.arange(len(data_1[i]))+i*len(data_2[0]), data_2[i], '.', color = colors[i])"
      ],
      "metadata": {
        "colab": {
          "base_uri": "https://localhost:8080/",
          "height": 265
        },
        "id": "ShElcUuZNXkK",
        "outputId": "a6b08e08-8d28-4c2c-991d-5a8fca64912e"
      },
      "execution_count": null,
      "outputs": [
        {
          "output_type": "display_data",
          "data": {
            "text/plain": [
              "<Figure size 432x288 with 1 Axes>"
            ],
            "image/png": "[encoded data removed]"
          },
          "metadata": {
            "needs_background": "light"
          }
        }
      ]
    },
    {
      "cell_type": "markdown",
      "source": [
        "위의 그림은 표준편차 std_1 = 0.1 이고, 파란색 빨간색, 초록색 집단이 확실히 평균에서 차이가 발생하는 집단이라는 것을 알 수 있다. 그런데 아래 그림에서는 평균이 같음(`centers = [5,5.3,4.5]`)에도 불구하고 집단 간에 차이가 있다고 말하기 어렵다. \n",
        "\n",
        "이러한 문제를 해결하기 위해서 통계에서는 경우에 따라서 t-test와 ANOVA라는 통계 기법을 이용해 두 집단의 평균이 다른지 검정(test)한다. 이 두 단어는 아마 논문을 읽으면서 괄호 안에 들어가 있는 것을 많이 봤으리라 생각되고 따라서 평소에 이 개념들에 대해서 잘 알지 못하고 넘어 갔던 사람들에게 도움이 되고자 이 두 개념에 대해서 간단하게 설명하고 코드를 통해서 어떻게 분석을 할 수 있는지 설명하고 실제 뇌과학 연구에서 어떤 방식으로 쓰일 수 있을 지에 대해서도 이야기하고자 한다. "
      ],
      "metadata": {
        "id": "GdV3RonSHTz6"
      }
    },
    {
      "cell_type": "markdown",
      "source": [
        "# t-test\n",
        "두 집단 사이의 평균이 차이가 있는지 검정하기 위해서 사용하는 방식이 t-test이다. \n",
        "\n",
        "## standardization\n",
        "t-test에 대해서 설명하기에 앞서서 알아야 할 개념으로 standardization(표준화)이 있다. standardization은 확률변수 X, Y가 있다고 할 때 각 변수마다 단위도 다르고 퍼져있는 분산도 다르기 때문에 두 집단을 비교하기 위해서는 일종의 키 맞추기를 해주어야 할 때 사용하는 방식이다. 표준화는 다음 식으로 한다. \n",
        "\n",
        "$$ z = \\frac{x-\\mu}{\\sigma}$$\n",
        "\n",
        "## t-test\n",
        "\n",
        "\n",
        "\n",
        "\n"
      ],
      "metadata": {
        "id": "lN6PYc05PsqU"
      }
    },
    {
      "cell_type": "markdown",
      "source": [
        "두 집단 사이의 평균에 차이가 있는지 확인하기 위해서 사용하는 방법으로 다음과 같이 수식을 통해 표현할 수 있다.\n",
        "\n",
        "$$ t = \\frac{\\bar{X}_1 - \\bar{X}_2}{s_{\\bar{X}_1 - \\bar{X}_2}} $$\n",
        "\n",
        "두 집단 사이의 평균을 불확실성으로 나눠준다고 생각하면 이 식을 이해하기 쉬울 것이다. 이 방식은 잉반적으로 모집단의 분산을 모를 때에 사용한다. \n",
        "\n",
        "\n",
        "\n",
        "\n"
      ],
      "metadata": {
        "id": "hORHL_G_bPsK"
      }
    },
    {
      "cell_type": "code",
      "source": [
        "dat_M = [117, 108, 105, 89, 101, 93, 96, 108, 108, 94, 93, 112, 92, 91, 100, 96, 120, 86, 96, 95]\n",
        "dat_F = [121, 101, 102, 114, 103, 105, 101, 131, 96, 109, 109, 113, 115, 94, 108, 96, 110, 112, 120, 100]\n",
        "\n",
        "print(\"mean of dat_M:\", np.mean(dat_M))\n",
        "print(\"mean of dat_F:\", np.mean(dat_F))"
      ],
      "metadata": {
        "colab": {
          "base_uri": "https://localhost:8080/"
        },
        "id": "413p0c6XapBG",
        "outputId": "fd6ea080-e9c0-4066-bdba-5891aa425722"
      },
      "execution_count": null,
      "outputs": [
        {
          "output_type": "stream",
          "name": "stdout",
          "text": [
            "mean of dat_M: 100.0\n",
            "mean of dat_F: 108.0\n"
          ]
        }
      ]
    },
    {
      "cell_type": "markdown",
      "source": [
        "두 집단의 평균 차이가 통계적으로 유의미한지 t-test"
      ],
      "metadata": {
        "id": "lLIShUTVi1Nm"
      }
    },
    {
      "cell_type": "code",
      "source": [
        "stats.ttest_ind(dat_M, dat_F, equal_var=False)\n"
      ],
      "metadata": {
        "colab": {
          "base_uri": "https://localhost:8080/"
        },
        "id": "A3TLFHvOi7eq",
        "outputId": "714abe14-4f36-422e-8d6e-3fb95998d96b"
      },
      "execution_count": null,
      "outputs": [
        {
          "output_type": "execute_result",
          "data": {
            "text/plain": [
              "Ttest_indResult(statistic=-2.670573872669349, pvalue=0.01108318824471652)"
            ]
          },
          "metadata": {},
          "execution_count": 9
        }
      ]
    },
    {
      "cell_type": "markdown",
      "source": [
        "p < -0.05이므로 통계적으로 유의하다."
      ],
      "metadata": {
        "id": "QQ6TcCkbjKaO"
      }
    },
    {
      "cell_type": "markdown",
      "source": [
        "__equal_var: bool, optional__\n",
        "\n",
        "If True (default), perform a standard independent 2 sample test that assumes equal population variances [1]. If False, perform Welch’s t-test, which does not assume equal population variance [2]."
      ],
      "metadata": {
        "id": "1lZ4aZajjQYB"
      }
    },
    {
      "cell_type": "markdown",
      "source": [
        "# ANOVA (Analysis of Variance, 분산분석)\n",
        "여러 그룹 간에서 평균의 차이가 있는 그룹이 있는지를 판단하기 위해 사용하는 test로 다음 세 가지 조건을 만족할 때 사용해야 한다. \n",
        "- 정규성: 각각의 그룹의 변수는 정규분포를 따른다. \n",
        "- 분산의 동질성 : Y의 모집단 분산은 각각의 모집단에서 동일.\n",
        "- 관찰의 독립성: 각각의 모집단에서 크기가 각각인 표본들이 독립적으로 표집. "
      ],
      "metadata": {
        "id": "Y3F2AyQAlqo1"
      }
    },
    {
      "cell_type": "markdown",
      "source": [
        "Group I: 50% 아산화 질소(nitrous oxide)와 50%의 산소(oxygen) 혼합물을 24시간 동안 흡입한 환자\n",
        "Group II: 50% 아산화 질소와 50% 산소 혼합물을 수술 받는 동안만 흡입한 환자\n",
        "Group III: 아산화 질소 없이 오직 35-50%의 산소만 24시간동안 처리한 환자"
      ],
      "metadata": {
        "id": "XQ0fNOQ9wQRV"
      }
    },
    {
      "cell_type": "code",
      "source": [
        "# url로 데이터 얻어오기\n",
        "url = 'https://raw.githubusercontent.com/thomas-haslwanter/statsintro_python/master/ipynb/Data/data_altman/altman_910.txt'\n",
        "data = np.genfromtxt(urllib.request.urlopen(url), delimiter=',')\n",
        "\n",
        "# Sort them into groups, according to column 1\n",
        "group1 = data[data[:,1]==1,0]\n",
        "group2 = data[data[:,1]==2,0]\n",
        "group3 = data[data[:,1]==3,0]\n",
        "\n",
        "# matplotlib plotting\n",
        "plot_data = [group1, group2, group3]\n",
        "ax = plt.boxplot(plot_data)\n",
        "plt.show()"
      ],
      "metadata": {
        "colab": {
          "base_uri": "https://localhost:8080/",
          "height": 324
        },
        "id": "flqRPNnBjH83",
        "outputId": "eab22477-e773-442f-ca15-7c20c52f4894"
      },
      "execution_count": null,
      "outputs": [
        {
          "output_type": "stream",
          "name": "stderr",
          "text": [
            "/usr/local/lib/python3.7/dist-packages/matplotlib/cbook/__init__.py:1376: VisibleDeprecationWarning: Creating an ndarray from ragged nested sequences (which is a list-or-tuple of lists-or-tuples-or ndarrays with different lengths or shapes) is deprecated. If you meant to do this, you must specify 'dtype=object' when creating the ndarray.\n",
            "  X = np.atleast_1d(X.T if isinstance(X, np.ndarray) else np.asarray(X))\n"
          ]
        },
        {
          "output_type": "display_data",
          "data": {
            "text/plain": [
              "<Figure size 432x288 with 1 Axes>"
            ],
            "image/png": "[encoded data removed]"
          },
          "metadata": {
            "needs_background": "light"
          }
        }
      ]
    },
    {
      "cell_type": "markdown",
      "source": [
        "## Scipy.stats으로 One-way ANOVA"
      ],
      "metadata": {
        "id": "55FlI7gGwpWR"
      }
    },
    {
      "cell_type": "code",
      "source": [
        "F_statistic, pVal = stats.f_oneway(group1, group2, group3)\n",
        "print('Altman 910 데이터의 일원분산분석 결과 : F={0:.1f}, p={1:.5f}'.format(F_statistic, pVal))\n",
        "if pVal < 0.05:\n",
        "    print('P-value 값이 충분히 작음으로 인해 그룹의 평균값이 통계적으로 유의미하게 차이납니다.')"
      ],
      "metadata": {
        "colab": {
          "base_uri": "https://localhost:8080/"
        },
        "id": "l62gkGNbwXVL",
        "outputId": "3109bb86-4592-4968-e3d0-e966d81cde00"
      },
      "execution_count": null,
      "outputs": [
        {
          "output_type": "stream",
          "name": "stdout",
          "text": [
            "Altman 910 데이터의 일원분산분석 결과 : F=3.7, p=0.04359\n",
            "P-value 값이 충분히 작음으로 인해 그룹의 평균값이 통계적으로 유의미하게 차이납니다.\n"
          ]
        }
      ]
    },
    {
      "cell_type": "markdown",
      "source": [
        "## Statsmodel을 사용한  one-way ANOVA"
      ],
      "metadata": {
        "id": "vme4WsCWwng-"
      }
    },
    {
      "cell_type": "code",
      "source": [
        "import warnings\n",
        "warnings.filterwarnings(\"ignore\")\n",
        "df = pd.DataFrame(data, columns=['value', 'treatment'])\n",
        "model = ols('value ~ C(treatment)', df).fit()\n",
        "\n",
        "print(anova_lm(model))"
      ],
      "metadata": {
        "colab": {
          "base_uri": "https://localhost:8080/"
        },
        "id": "Llndk_R5w4FN",
        "outputId": "e5b45d2b-2395-4971-932d-4c4f335d5b56"
      },
      "execution_count": null,
      "outputs": [
        {
          "output_type": "stream",
          "name": "stdout",
          "text": [
            "                df        sum_sq      mean_sq         F    PR(>F)\n",
            "C(treatment)   2.0  15515.766414  7757.883207  3.711336  0.043589\n",
            "Residual      19.0  39716.097222  2090.320906       NaN       NaN\n"
          ]
        }
      ]
    },
    {
      "cell_type": "markdown",
      "source": [
        "## Two-way ANOVA\n",
        "독립변인의 수가 두 개 이상일 때 집단 간 차이가 유의한지를 검증하는 데 사용한다. 상호작용 효과(interaction effect; 다른 변수에 의해서 한 변수가 결과에 미치는 영향이 달라지는 지)를 확인하기 위해 사용됨."
      ],
      "metadata": {
        "id": "p58VqQMUxa1A"
      }
    },
    {
      "cell_type": "markdown",
      "source": [
        "### 예제 데이터(altman_12_6) 설명\n",
        "태아의 머리 둘레 측정 데이터입니다. 4명의 관측자가 3명의 태아를 대상으로 측정을 했습니다. 이를 통해서 초음파로 태아의 머리 둘레측정 데이터가 재현성이 있는지를 조사하였습니다."
      ],
      "metadata": {
        "id": "peI3CtLex-Gb"
      }
    },
    {
      "cell_type": "code",
      "source": [
        "inFile = 'altman_12_6.txt'\n",
        "url_base = 'https://raw.githubusercontent.com/thomas-haslwanter/statsintro_python/master/ipynb/Data/data_altman/'\n",
        "url = url_base + inFile\n",
        "data = np.genfromtxt(urllib.request.urlopen(url), delimiter=',')\n",
        "\n",
        "# Bring them in dataframe-format\n",
        "df = pd.DataFrame(data, columns=['head_size', 'fetus', 'observer'])\n",
        "# df.tail()\n",
        "\n",
        "# 태아별 머리 둘레 plot 만들기\n",
        "df.boxplot(column = 'head_size', by='fetus' , grid = False)"
      ],
      "metadata": {
        "colab": {
          "base_uri": "https://localhost:8080/",
          "height": 319
        },
        "id": "2L0d36PJyC45",
        "outputId": "993ad191-445b-477c-d400-5ea771676a18"
      },
      "execution_count": null,
      "outputs": [
        {
          "output_type": "execute_result",
          "data": {
            "text/plain": [
              "<matplotlib.axes._subplots.AxesSubplot at 0x7f62161ab150>"
            ]
          },
          "metadata": {},
          "execution_count": 13
        },
        {
          "output_type": "display_data",
          "data": {
            "text/plain": [
              "<Figure size 432x288 with 1 Axes>"
            ],
            "image/png": "[encoded data removed]"
          },
          "metadata": {
            "needs_background": "light"
          }
        }
      ]
    },
    {
      "cell_type": "code",
      "source": [
        "formula = 'head_size ~ C(fetus) + C(observer) + C(fetus):C(observer)' \n",
        "lm = ols(formula, df).fit() \n",
        "print(anova_lm(lm))"
      ],
      "metadata": {
        "colab": {
          "base_uri": "https://localhost:8080/"
        },
        "id": "JR9KyHZl1EYh",
        "outputId": "32c55093-db85-4249-e024-91d0daaaacc4"
      },
      "execution_count": null,
      "outputs": [
        {
          "output_type": "stream",
          "name": "stdout",
          "text": [
            "                        df      sum_sq     mean_sq            F        PR(>F)\n",
            "C(fetus)               2.0  324.008889  162.004444  2113.101449  1.051039e-27\n",
            "C(observer)            3.0    1.198611    0.399537     5.211353  6.497055e-03\n",
            "C(fetus):C(observer)   6.0    0.562222    0.093704     1.222222  3.295509e-01\n",
            "Residual              24.0    1.840000    0.076667          NaN           NaN\n"
          ]
        }
      ]
    },
    {
      "cell_type": "code",
      "source": [
        "anova = anova_lm(lm)\n",
        "p = anova[anova[\"PR(>F)\"]>0.05]\n",
        "print(p)"
      ],
      "metadata": {
        "colab": {
          "base_uri": "https://localhost:8080/"
        },
        "id": "axFHdjrp22BA",
        "outputId": "4b970191-e95c-407d-e38c-3b16ef86e0f2"
      },
      "execution_count": null,
      "outputs": [
        {
          "output_type": "stream",
          "name": "stdout",
          "text": [
            "                       df    sum_sq   mean_sq         F    PR(>F)\n",
            "C(fetus):C(observer)  6.0  0.562222  0.093704  1.222222  0.329551\n"
          ]
        }
      ]
    },
    {
      "cell_type": "markdown",
      "source": [
        "분산분석(ANOVA)는 전체 그룹간의 평균값 차이가 통계적 의미가 있는지 판단하는데 유용한 도구 입니다. 하지만 정확히 어느 그룹의 평균값이 의미가 있는지는 알려주지 않습니다. 따라서 추가적인 사후분석(Post Hoc Analysis) 이 필요합니다. 사후분석에 대해서는 다음 기회에 알아 보도록 하겠습니다."
      ],
      "metadata": {
        "id": "lMWHHFna0_5n"
      }
    },
    {
      "cell_type": "markdown",
      "source": [
        "# Reference\n",
        "- https://www.bmj.com/about-bmj/resources-readers/publications/statistics-square-one\n",
        "- https://blog.naver.com/istech7/50151098832\n",
        "- https://partrita.github.io/posts/ANOVA-python/\n",
        "- https://mindscale.kr/course/basic-stat-python/16/\n",
        "- https://www.real-statistics.com/students-t-distribution/two-sample-t-test-uequal-variances/\n",
        "- https://www.investopedia.com/terms/d/degrees-of-freedom.asp\n",
        "- https://docs.scipy.org/doc/scipy/reference/generated/scipy.stats.ttest_ind.html\n",
        "- https://www.statisticssolutions.com/free-resources/directory-of-statistical-analyses/anova/"
      ],
      "metadata": {
        "id": "XgcZJBKfo8ZC"
      }
    }
  ]
}